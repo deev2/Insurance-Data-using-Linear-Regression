{
 "cells": [
  {
   "cell_type": "code",
   "execution_count": 1,
   "id": "d97ba090",
   "metadata": {},
   "outputs": [],
   "source": [
    "# Importing necesary libraries\n",
    "import pandas as pd\n",
    "import numpy as np\n",
    "import matplotlib.pyplot as plt\n",
    "import seaborn as sns"
   ]
  },
  {
   "cell_type": "code",
   "execution_count": 2,
   "id": "4d93d0a3",
   "metadata": {},
   "outputs": [],
   "source": [
    "# Reading the data\n",
    "data = pd.read_csv(r\"C:\\Users\\Nandu\\Downloads\\datasets_insurance.csv\",header=0)"
   ]
  },
  {
   "cell_type": "code",
   "execution_count": 3,
   "id": "a53a752b",
   "metadata": {},
   "outputs": [
    {
     "data": {
      "text/html": [
       "<div>\n",
       "<style scoped>\n",
       "    .dataframe tbody tr th:only-of-type {\n",
       "        vertical-align: middle;\n",
       "    }\n",
       "\n",
       "    .dataframe tbody tr th {\n",
       "        vertical-align: top;\n",
       "    }\n",
       "\n",
       "    .dataframe thead th {\n",
       "        text-align: right;\n",
       "    }\n",
       "</style>\n",
       "<table border=\"1\" class=\"dataframe\">\n",
       "  <thead>\n",
       "    <tr style=\"text-align: right;\">\n",
       "      <th></th>\n",
       "      <th>age</th>\n",
       "      <th>sex</th>\n",
       "      <th>bmi</th>\n",
       "      <th>children</th>\n",
       "      <th>smoker</th>\n",
       "      <th>region</th>\n",
       "      <th>charges</th>\n",
       "    </tr>\n",
       "  </thead>\n",
       "  <tbody>\n",
       "    <tr>\n",
       "      <th>0</th>\n",
       "      <td>19</td>\n",
       "      <td>female</td>\n",
       "      <td>27.900</td>\n",
       "      <td>0</td>\n",
       "      <td>yes</td>\n",
       "      <td>southwest</td>\n",
       "      <td>16884.92400</td>\n",
       "    </tr>\n",
       "    <tr>\n",
       "      <th>1</th>\n",
       "      <td>18</td>\n",
       "      <td>male</td>\n",
       "      <td>33.770</td>\n",
       "      <td>1</td>\n",
       "      <td>no</td>\n",
       "      <td>southeast</td>\n",
       "      <td>1725.55230</td>\n",
       "    </tr>\n",
       "    <tr>\n",
       "      <th>2</th>\n",
       "      <td>28</td>\n",
       "      <td>male</td>\n",
       "      <td>33.000</td>\n",
       "      <td>3</td>\n",
       "      <td>no</td>\n",
       "      <td>southeast</td>\n",
       "      <td>4449.46200</td>\n",
       "    </tr>\n",
       "    <tr>\n",
       "      <th>3</th>\n",
       "      <td>33</td>\n",
       "      <td>male</td>\n",
       "      <td>22.705</td>\n",
       "      <td>0</td>\n",
       "      <td>no</td>\n",
       "      <td>northwest</td>\n",
       "      <td>21984.47061</td>\n",
       "    </tr>\n",
       "    <tr>\n",
       "      <th>4</th>\n",
       "      <td>32</td>\n",
       "      <td>male</td>\n",
       "      <td>28.880</td>\n",
       "      <td>0</td>\n",
       "      <td>no</td>\n",
       "      <td>northwest</td>\n",
       "      <td>3866.85520</td>\n",
       "    </tr>\n",
       "  </tbody>\n",
       "</table>\n",
       "</div>"
      ],
      "text/plain": [
       "   age     sex     bmi  children smoker     region      charges\n",
       "0   19  female  27.900         0    yes  southwest  16884.92400\n",
       "1   18    male  33.770         1     no  southeast   1725.55230\n",
       "2   28    male  33.000         3     no  southeast   4449.46200\n",
       "3   33    male  22.705         0     no  northwest  21984.47061\n",
       "4   32    male  28.880         0     no  northwest   3866.85520"
      ]
     },
     "execution_count": 3,
     "metadata": {},
     "output_type": "execute_result"
    }
   ],
   "source": [
    "data.head()"
   ]
  },
  {
   "cell_type": "code",
   "execution_count": 4,
   "id": "bed54f45",
   "metadata": {},
   "outputs": [
    {
     "name": "stdout",
     "output_type": "stream",
     "text": [
      "age           int64\n",
      "sex          object\n",
      "bmi         float64\n",
      "children      int64\n",
      "smoker       object\n",
      "region       object\n",
      "charges     float64\n",
      "dtype: object\n"
     ]
    }
   ],
   "source": [
    "print(data.dtypes)"
   ]
  },
  {
   "cell_type": "code",
   "execution_count": 5,
   "id": "b47cd5e4",
   "metadata": {},
   "outputs": [
    {
     "name": "stdout",
     "output_type": "stream",
     "text": [
      "(1338, 7)\n"
     ]
    }
   ],
   "source": [
    "print(data.shape)"
   ]
  },
  {
   "cell_type": "code",
   "execution_count": 6,
   "id": "20a033d2",
   "metadata": {},
   "outputs": [
    {
     "name": "stdout",
     "output_type": "stream",
     "text": [
      "           age      bmi  children   charges\n",
      "count  1338.00  1338.00   1338.00   1338.00\n",
      "mean     39.21    30.66      1.09  13270.42\n",
      "std      14.05     6.10      1.21  12110.01\n",
      "min      18.00    15.96      0.00   1121.87\n",
      "25%      27.00    26.30      0.00   4740.29\n",
      "50%      39.00    30.40      1.00   9382.03\n",
      "75%      51.00    34.69      2.00  16639.91\n",
      "max      64.00    53.13      5.00  63770.43\n"
     ]
    }
   ],
   "source": [
    "print(data.describe().round(2))"
   ]
  },
  {
   "cell_type": "code",
   "execution_count": 7,
   "id": "9f91053f",
   "metadata": {},
   "outputs": [
    {
     "data": {
      "text/plain": [
       "age         0\n",
       "sex         0\n",
       "bmi         0\n",
       "children    0\n",
       "smoker      0\n",
       "region      0\n",
       "charges     0\n",
       "dtype: int64"
      ]
     },
     "execution_count": 7,
     "metadata": {},
     "output_type": "execute_result"
    }
   ],
   "source": [
    "# Finding null values\n",
    "data.isnull().sum()"
   ]
  },
  {
   "cell_type": "code",
   "execution_count": 8,
   "id": "929af6f4",
   "metadata": {},
   "outputs": [
    {
     "data": {
      "text/plain": [
       "<AxesSubplot:>"
      ]
     },
     "execution_count": 8,
     "metadata": {},
     "output_type": "execute_result"
    },
    {
     "data": {
      "image/png": "[encoded data removed]",
      "text/plain": [
       "<Figure size 432x288 with 1 Axes>"
      ]
     },
     "metadata": {
      "needs_background": "light"
     },
     "output_type": "display_data"
    }
   ],
   "source": [
    "data.boxplot()"
   ]
  },
  {
   "cell_type": "code",
   "execution_count": 10,
   "id": "b4a6a13e",
   "metadata": {},
   "outputs": [
    {
     "data": {
      "image/png": "[encoded data removed]",
      "text/plain": [
       "<Figure size 432x288 with 1 Axes>"
      ]
     },
     "metadata": {
      "needs_background": "light"
     },
     "output_type": "display_data"
    },
    {
     "data": {
      "image/png": "[encoded data removed]",
      "text/plain": [
       "<Figure size 432x288 with 1 Axes>"
      ]
     },
     "metadata": {
      "needs_background": "light"
     },
     "output_type": "display_data"
    },
    {
     "data": {
      "image/png": "[encoded data removed]",
      "text/plain": [
       "<Figure size 432x288 with 1 Axes>"
      ]
     },
     "metadata": {
      "needs_background": "light"
     },
     "output_type": "display_data"
    },
    {
     "data": {
      "image/png": "[encoded data removed]",
      "text/plain": [
       "<Figure size 432x288 with 1 Axes>"
      ]
     },
     "metadata": {
      "needs_background": "light"
     },
     "output_type": "display_data"
    }
   ],
   "source": [
    "# Finding outliers in the data\n",
    "colname=[]\n",
    "for x in data.columns:\n",
    "    if data[x].dtype==\"int64\" or data[x].dtype==\"float64\":\n",
    "        colname.append(x)\n",
    "        \n",
    "for x in colname:\n",
    "    data.boxplot(column=x)\n",
    "    plt.show()"
   ]
  },
  {
   "cell_type": "markdown",
   "id": "5f9709c4",
   "metadata": {},
   "source": [
    "There are some outliers in the data but they are all important to the data so not making any treatment"
   ]
  },
  {
   "cell_type": "code",
   "execution_count": 9,
   "id": "e2a4b487",
   "metadata": {},
   "outputs": [
    {
     "data": {
      "text/plain": [
       "<seaborn.axisgrid.PairGrid at 0x19b2b55e430>"
      ]
     },
     "execution_count": 9,
     "metadata": {},
     "output_type": "execute_result"
    },
    {
     "data": {
      "image/png": "[encoded data removed]",
      "text/plain": [
       "<Figure size 1080x180 with 6 Axes>"
      ]
     },
     "metadata": {
      "needs_background": "light"
     },
     "output_type": "display_data"
    }
   ],
   "source": [
    "# Seeing relationship between independent variable and dependent variable\n",
    "sns.pairplot(data,x_vars=[\"age\",\"sex\",\"bmi\",\"children\",\"smoker\",\"region\"],\n",
    "            y_vars=\"charges\",kind=\"scatter\")"
   ]
  },
  {
   "cell_type": "code",
   "execution_count": 10,
   "id": "51aeb2b3",
   "metadata": {},
   "outputs": [],
   "source": [
    "# Dividing independent and dependent variable\n",
    "X = data[[\"age\",\"sex\",\"bmi\",\"children\",\"smoker\",\"region\"]]\n",
    "Y = data[[\"charges\"]]"
   ]
  },
  {
   "cell_type": "code",
   "execution_count": 11,
   "id": "6618160c",
   "metadata": {},
   "outputs": [
    {
     "name": "stdout",
     "output_type": "stream",
     "text": [
      "(1338, 6)\n",
      "(1338, 1)\n"
     ]
    }
   ],
   "source": [
    "print(X.shape)\n",
    "print(Y.shape)"
   ]
  },
  {
   "cell_type": "code",
   "execution_count": 12,
   "id": "009bde8c",
   "metadata": {},
   "outputs": [
    {
     "name": "stderr",
     "output_type": "stream",
     "text": [
      "C:\\Users\\Nandu\\anaconda3\\lib\\site-packages\\seaborn\\distributions.py:2619: FutureWarning: `distplot` is a deprecated function and will be removed in a future version. Please adapt your code to use either `displot` (a figure-level function with similar flexibility) or `histplot` (an axes-level function for histograms).\n",
      "  warnings.warn(msg, FutureWarning)\n"
     ]
    },
    {
     "data": {
      "text/plain": [
       "<AxesSubplot:ylabel='Density'>"
      ]
     },
     "execution_count": 12,
     "metadata": {},
     "output_type": "execute_result"
    },
    {
     "data": {
      "image/png": "[encoded data removed]",
      "text/plain": [
       "<Figure size 432x288 with 1 Axes>"
      ]
     },
     "metadata": {
      "needs_background": "light"
     },
     "output_type": "display_data"
    }
   ],
   "source": [
    "# There is a normal distribution in the dependent variable or not\n",
    "sns.distplot(Y)"
   ]
  },
  {
   "cell_type": "code",
   "execution_count": 13,
   "id": "04124f85",
   "metadata": {},
   "outputs": [
    {
     "name": "stderr",
     "output_type": "stream",
     "text": [
      "C:\\Users\\Nandu\\anaconda3\\lib\\site-packages\\seaborn\\distributions.py:2619: FutureWarning: `distplot` is a deprecated function and will be removed in a future version. Please adapt your code to use either `displot` (a figure-level function with similar flexibility) or `histplot` (an axes-level function for histograms).\n",
      "  warnings.warn(msg, FutureWarning)\n"
     ]
    },
    {
     "data": {
      "text/plain": [
       "<AxesSubplot:ylabel='Density'>"
      ]
     },
     "execution_count": 13,
     "metadata": {},
     "output_type": "execute_result"
    },
    {
     "data": {
      "image/png": "[encoded data removed]",
      "text/plain": [
       "<Figure size 432x288 with 1 Axes>"
      ]
     },
     "metadata": {
      "needs_background": "light"
     },
     "output_type": "display_data"
    }
   ],
   "source": [
    "# Converting the dependent variable in normal distribution\n",
    "Y = np.log(Y)\n",
    "sns.distplot(Y,hist=True)"
   ]
  },
  {
   "cell_type": "code",
   "execution_count": 14,
   "id": "e352f20c",
   "metadata": {},
   "outputs": [],
   "source": [
    "# Avoiding warnings\n",
    "import warnings\n",
    "warnings.filterwarnings(\"ignore\")"
   ]
  },
  {
   "cell_type": "markdown",
   "id": "5d4263cf",
   "metadata": {},
   "source": [
    "Converting categorical data into integer"
   ]
  },
  {
   "cell_type": "code",
   "execution_count": 15,
   "id": "cbafa01e",
   "metadata": {},
   "outputs": [],
   "source": [
    "data[\"sex\"] = data[\"sex\"].replace([\"female\",\"male\"],[0,1])"
   ]
  },
  {
   "cell_type": "code",
   "execution_count": 16,
   "id": "0d8761d5",
   "metadata": {},
   "outputs": [
    {
     "data": {
      "text/html": [
       "<div>\n",
       "<style scoped>\n",
       "    .dataframe tbody tr th:only-of-type {\n",
       "        vertical-align: middle;\n",
       "    }\n",
       "\n",
       "    .dataframe tbody tr th {\n",
       "        vertical-align: top;\n",
       "    }\n",
       "\n",
       "    .dataframe thead th {\n",
       "        text-align: right;\n",
       "    }\n",
       "</style>\n",
       "<table border=\"1\" class=\"dataframe\">\n",
       "  <thead>\n",
       "    <tr style=\"text-align: right;\">\n",
       "      <th></th>\n",
       "      <th>age</th>\n",
       "      <th>sex</th>\n",
       "      <th>bmi</th>\n",
       "      <th>children</th>\n",
       "      <th>smoker</th>\n",
       "      <th>region</th>\n",
       "      <th>charges</th>\n",
       "    </tr>\n",
       "  </thead>\n",
       "  <tbody>\n",
       "    <tr>\n",
       "      <th>0</th>\n",
       "      <td>19</td>\n",
       "      <td>0</td>\n",
       "      <td>27.900</td>\n",
       "      <td>0</td>\n",
       "      <td>yes</td>\n",
       "      <td>southwest</td>\n",
       "      <td>16884.92400</td>\n",
       "    </tr>\n",
       "    <tr>\n",
       "      <th>1</th>\n",
       "      <td>18</td>\n",
       "      <td>1</td>\n",
       "      <td>33.770</td>\n",
       "      <td>1</td>\n",
       "      <td>no</td>\n",
       "      <td>southeast</td>\n",
       "      <td>1725.55230</td>\n",
       "    </tr>\n",
       "    <tr>\n",
       "      <th>2</th>\n",
       "      <td>28</td>\n",
       "      <td>1</td>\n",
       "      <td>33.000</td>\n",
       "      <td>3</td>\n",
       "      <td>no</td>\n",
       "      <td>southeast</td>\n",
       "      <td>4449.46200</td>\n",
       "    </tr>\n",
       "    <tr>\n",
       "      <th>3</th>\n",
       "      <td>33</td>\n",
       "      <td>1</td>\n",
       "      <td>22.705</td>\n",
       "      <td>0</td>\n",
       "      <td>no</td>\n",
       "      <td>northwest</td>\n",
       "      <td>21984.47061</td>\n",
       "    </tr>\n",
       "    <tr>\n",
       "      <th>4</th>\n",
       "      <td>32</td>\n",
       "      <td>1</td>\n",
       "      <td>28.880</td>\n",
       "      <td>0</td>\n",
       "      <td>no</td>\n",
       "      <td>northwest</td>\n",
       "      <td>3866.85520</td>\n",
       "    </tr>\n",
       "  </tbody>\n",
       "</table>\n",
       "</div>"
      ],
      "text/plain": [
       "   age  sex     bmi  children smoker     region      charges\n",
       "0   19    0  27.900         0    yes  southwest  16884.92400\n",
       "1   18    1  33.770         1     no  southeast   1725.55230\n",
       "2   28    1  33.000         3     no  southeast   4449.46200\n",
       "3   33    1  22.705         0     no  northwest  21984.47061\n",
       "4   32    1  28.880         0     no  northwest   3866.85520"
      ]
     },
     "execution_count": 16,
     "metadata": {},
     "output_type": "execute_result"
    }
   ],
   "source": [
    "data.head()"
   ]
  },
  {
   "cell_type": "code",
   "execution_count": 17,
   "id": "dea9d2fa",
   "metadata": {},
   "outputs": [
    {
     "data": {
      "text/html": [
       "<div>\n",
       "<style scoped>\n",
       "    .dataframe tbody tr th:only-of-type {\n",
       "        vertical-align: middle;\n",
       "    }\n",
       "\n",
       "    .dataframe tbody tr th {\n",
       "        vertical-align: top;\n",
       "    }\n",
       "\n",
       "    .dataframe thead th {\n",
       "        text-align: right;\n",
       "    }\n",
       "</style>\n",
       "<table border=\"1\" class=\"dataframe\">\n",
       "  <thead>\n",
       "    <tr style=\"text-align: right;\">\n",
       "      <th></th>\n",
       "      <th>age</th>\n",
       "      <th>sex</th>\n",
       "      <th>bmi</th>\n",
       "      <th>children</th>\n",
       "      <th>smoker</th>\n",
       "      <th>region</th>\n",
       "      <th>charges</th>\n",
       "    </tr>\n",
       "  </thead>\n",
       "  <tbody>\n",
       "    <tr>\n",
       "      <th>0</th>\n",
       "      <td>19</td>\n",
       "      <td>0</td>\n",
       "      <td>27.900</td>\n",
       "      <td>0</td>\n",
       "      <td>1</td>\n",
       "      <td>southwest</td>\n",
       "      <td>16884.92400</td>\n",
       "    </tr>\n",
       "    <tr>\n",
       "      <th>1</th>\n",
       "      <td>18</td>\n",
       "      <td>1</td>\n",
       "      <td>33.770</td>\n",
       "      <td>1</td>\n",
       "      <td>0</td>\n",
       "      <td>southeast</td>\n",
       "      <td>1725.55230</td>\n",
       "    </tr>\n",
       "    <tr>\n",
       "      <th>2</th>\n",
       "      <td>28</td>\n",
       "      <td>1</td>\n",
       "      <td>33.000</td>\n",
       "      <td>3</td>\n",
       "      <td>0</td>\n",
       "      <td>southeast</td>\n",
       "      <td>4449.46200</td>\n",
       "    </tr>\n",
       "    <tr>\n",
       "      <th>3</th>\n",
       "      <td>33</td>\n",
       "      <td>1</td>\n",
       "      <td>22.705</td>\n",
       "      <td>0</td>\n",
       "      <td>0</td>\n",
       "      <td>northwest</td>\n",
       "      <td>21984.47061</td>\n",
       "    </tr>\n",
       "    <tr>\n",
       "      <th>4</th>\n",
       "      <td>32</td>\n",
       "      <td>1</td>\n",
       "      <td>28.880</td>\n",
       "      <td>0</td>\n",
       "      <td>0</td>\n",
       "      <td>northwest</td>\n",
       "      <td>3866.85520</td>\n",
       "    </tr>\n",
       "  </tbody>\n",
       "</table>\n",
       "</div>"
      ],
      "text/plain": [
       "   age  sex     bmi  children  smoker     region      charges\n",
       "0   19    0  27.900         0       1  southwest  16884.92400\n",
       "1   18    1  33.770         1       0  southeast   1725.55230\n",
       "2   28    1  33.000         3       0  southeast   4449.46200\n",
       "3   33    1  22.705         0       0  northwest  21984.47061\n",
       "4   32    1  28.880         0       0  northwest   3866.85520"
      ]
     },
     "execution_count": 17,
     "metadata": {},
     "output_type": "execute_result"
    }
   ],
   "source": [
    "data[\"smoker\"] = data[\"smoker\"].replace([\"no\",\"yes\"],[0,1])\n",
    "data.head()"
   ]
  },
  {
   "cell_type": "code",
   "execution_count": 18,
   "id": "d5b91fc9",
   "metadata": {},
   "outputs": [],
   "source": [
    "data[\"region\"] = data[\"region\"].replace([\"northeast\",\"northwest\",\"southeast\",\"southwest\"],[0,1,2,3])"
   ]
  },
  {
   "cell_type": "code",
   "execution_count": 19,
   "id": "2f32c546",
   "metadata": {
    "scrolled": true
   },
   "outputs": [
    {
     "data": {
      "text/html": [
       "<div>\n",
       "<style scoped>\n",
       "    .dataframe tbody tr th:only-of-type {\n",
       "        vertical-align: middle;\n",
       "    }\n",
       "\n",
       "    .dataframe tbody tr th {\n",
       "        vertical-align: top;\n",
       "    }\n",
       "\n",
       "    .dataframe thead th {\n",
       "        text-align: right;\n",
       "    }\n",
       "</style>\n",
       "<table border=\"1\" class=\"dataframe\">\n",
       "  <thead>\n",
       "    <tr style=\"text-align: right;\">\n",
       "      <th></th>\n",
       "      <th>age</th>\n",
       "      <th>sex</th>\n",
       "      <th>bmi</th>\n",
       "      <th>children</th>\n",
       "      <th>smoker</th>\n",
       "      <th>region</th>\n",
       "      <th>charges</th>\n",
       "    </tr>\n",
       "  </thead>\n",
       "  <tbody>\n",
       "    <tr>\n",
       "      <th>0</th>\n",
       "      <td>19</td>\n",
       "      <td>0</td>\n",
       "      <td>27.900</td>\n",
       "      <td>0</td>\n",
       "      <td>1</td>\n",
       "      <td>3</td>\n",
       "      <td>16884.92400</td>\n",
       "    </tr>\n",
       "    <tr>\n",
       "      <th>1</th>\n",
       "      <td>18</td>\n",
       "      <td>1</td>\n",
       "      <td>33.770</td>\n",
       "      <td>1</td>\n",
       "      <td>0</td>\n",
       "      <td>2</td>\n",
       "      <td>1725.55230</td>\n",
       "    </tr>\n",
       "    <tr>\n",
       "      <th>2</th>\n",
       "      <td>28</td>\n",
       "      <td>1</td>\n",
       "      <td>33.000</td>\n",
       "      <td>3</td>\n",
       "      <td>0</td>\n",
       "      <td>2</td>\n",
       "      <td>4449.46200</td>\n",
       "    </tr>\n",
       "    <tr>\n",
       "      <th>3</th>\n",
       "      <td>33</td>\n",
       "      <td>1</td>\n",
       "      <td>22.705</td>\n",
       "      <td>0</td>\n",
       "      <td>0</td>\n",
       "      <td>1</td>\n",
       "      <td>21984.47061</td>\n",
       "    </tr>\n",
       "    <tr>\n",
       "      <th>4</th>\n",
       "      <td>32</td>\n",
       "      <td>1</td>\n",
       "      <td>28.880</td>\n",
       "      <td>0</td>\n",
       "      <td>0</td>\n",
       "      <td>1</td>\n",
       "      <td>3866.85520</td>\n",
       "    </tr>\n",
       "  </tbody>\n",
       "</table>\n",
       "</div>"
      ],
      "text/plain": [
       "   age  sex     bmi  children  smoker  region      charges\n",
       "0   19    0  27.900         0       1       3  16884.92400\n",
       "1   18    1  33.770         1       0       2   1725.55230\n",
       "2   28    1  33.000         3       0       2   4449.46200\n",
       "3   33    1  22.705         0       0       1  21984.47061\n",
       "4   32    1  28.880         0       0       1   3866.85520"
      ]
     },
     "execution_count": 19,
     "metadata": {},
     "output_type": "execute_result"
    }
   ],
   "source": [
    "data.head()"
   ]
  },
  {
   "cell_type": "code",
   "execution_count": 20,
   "id": "27429055",
   "metadata": {},
   "outputs": [],
   "source": [
    "X = data[[\"age\",\"sex\",\"bmi\",\"children\",\"smoker\",\"region\"]]"
   ]
  },
  {
   "cell_type": "code",
   "execution_count": 21,
   "id": "fe6319ee",
   "metadata": {},
   "outputs": [
    {
     "data": {
      "text/plain": [
       "array([[<AxesSubplot:title={'center':'age'}>,\n",
       "        <AxesSubplot:title={'center':'sex'}>],\n",
       "       [<AxesSubplot:title={'center':'bmi'}>,\n",
       "        <AxesSubplot:title={'center':'children'}>],\n",
       "       [<AxesSubplot:title={'center':'smoker'}>,\n",
       "        <AxesSubplot:title={'center':'region'}>]], dtype=object)"
      ]
     },
     "execution_count": 21,
     "metadata": {},
     "output_type": "execute_result"
    },
    {
     "data": {
      "image/png": "[encoded data removed]",
      "text/plain": [
       "<Figure size 432x288 with 6 Axes>"
      ]
     },
     "metadata": {
      "needs_background": "light"
     },
     "output_type": "display_data"
    }
   ],
   "source": [
    "X.hist(bins=20)"
   ]
  },
  {
   "cell_type": "code",
   "execution_count": 22,
   "id": "47e7047c",
   "metadata": {},
   "outputs": [
    {
     "name": "stdout",
     "output_type": "stream",
     "text": [
      "               age       sex       bmi  children    smoker    region\n",
      "age       1.000000 -0.020856  0.109272  0.042469 -0.025019  0.002127\n",
      "sex      -0.020856  1.000000  0.046371  0.017163  0.076185  0.004588\n",
      "bmi       0.109272  0.046371  1.000000  0.012759  0.003750  0.157566\n",
      "children  0.042469  0.017163  0.012759  1.000000  0.007673  0.016569\n",
      "smoker   -0.025019  0.076185  0.003750  0.007673  1.000000 -0.002181\n",
      "region    0.002127  0.004588  0.157566  0.016569 -0.002181  1.000000\n"
     ]
    },
    {
     "data": {
      "text/plain": [
       "<AxesSubplot:>"
      ]
     },
     "execution_count": 22,
     "metadata": {},
     "output_type": "execute_result"
    },
    {
     "data": {
      "image/png": "[encoded data removed]",
      "text/plain": [
       "<Figure size 432x288 with 2 Axes>"
      ]
     },
     "metadata": {
      "needs_background": "light"
     },
     "output_type": "display_data"
    }
   ],
   "source": [
    "# Seeing the relationship between independent variable\n",
    "corr_df=X.corr(method=\"pearson\")\n",
    "print(corr_df)\n",
    "\n",
    "sns.heatmap(corr_df,vmax=1.0,vmin=-1.0,annot=True)"
   ]
  },
  {
   "cell_type": "code",
   "execution_count": 23,
   "id": "808ddf2a",
   "metadata": {},
   "outputs": [
    {
     "data": {
      "text/html": [
       "<div>\n",
       "<style scoped>\n",
       "    .dataframe tbody tr th:only-of-type {\n",
       "        vertical-align: middle;\n",
       "    }\n",
       "\n",
       "    .dataframe tbody tr th {\n",
       "        vertical-align: top;\n",
       "    }\n",
       "\n",
       "    .dataframe thead th {\n",
       "        text-align: right;\n",
       "    }\n",
       "</style>\n",
       "<table border=\"1\" class=\"dataframe\">\n",
       "  <thead>\n",
       "    <tr style=\"text-align: right;\">\n",
       "      <th></th>\n",
       "      <th>features</th>\n",
       "      <th>VIF Factor</th>\n",
       "    </tr>\n",
       "  </thead>\n",
       "  <tbody>\n",
       "    <tr>\n",
       "      <th>0</th>\n",
       "      <td>age</td>\n",
       "      <td>7.55</td>\n",
       "    </tr>\n",
       "    <tr>\n",
       "      <th>1</th>\n",
       "      <td>sex</td>\n",
       "      <td>2.00</td>\n",
       "    </tr>\n",
       "    <tr>\n",
       "      <th>2</th>\n",
       "      <td>bmi</td>\n",
       "      <td>10.37</td>\n",
       "    </tr>\n",
       "    <tr>\n",
       "      <th>3</th>\n",
       "      <td>children</td>\n",
       "      <td>1.80</td>\n",
       "    </tr>\n",
       "    <tr>\n",
       "      <th>4</th>\n",
       "      <td>smoker</td>\n",
       "      <td>1.26</td>\n",
       "    </tr>\n",
       "    <tr>\n",
       "      <th>5</th>\n",
       "      <td>region</td>\n",
       "      <td>2.92</td>\n",
       "    </tr>\n",
       "  </tbody>\n",
       "</table>\n",
       "</div>"
      ],
      "text/plain": [
       "   features  VIF Factor\n",
       "0       age        7.55\n",
       "1       sex        2.00\n",
       "2       bmi       10.37\n",
       "3  children        1.80\n",
       "4    smoker        1.26\n",
       "5    region        2.92"
      ]
     },
     "execution_count": 23,
     "metadata": {},
     "output_type": "execute_result"
    }
   ],
   "source": [
    "# Seeing multicollinearty in the data\n",
    "from statsmodels.stats.outliers_influence import variance_inflation_factor as vif\n",
    "\n",
    "vif_df = pd.DataFrame()\n",
    "vif_df[\"features\"] = X.columns\n",
    "vif_df[\"VIF Factor\"] = [vif(X.values, i) for i in range(X.shape[1])]\n",
    "vif_df.round(2)"
   ]
  },
  {
   "cell_type": "code",
   "execution_count": 24,
   "id": "f332ed50",
   "metadata": {},
   "outputs": [],
   "source": [
    "# Spliting the data into train and test\n",
    "from sklearn.model_selection import train_test_split\n",
    "\n",
    "X_train, X_test, Y_train, Y_test = train_test_split(X,Y, test_size=0.2, random_state=10)"
   ]
  },
  {
   "cell_type": "code",
   "execution_count": 25,
   "id": "b4ff4540",
   "metadata": {},
   "outputs": [
    {
     "name": "stdout",
     "output_type": "stream",
     "text": [
      "(1070, 6)\n",
      "(268, 6)\n",
      "(1070, 1)\n",
      "(268, 1)\n"
     ]
    }
   ],
   "source": [
    "print(X_train.shape)\n",
    "print(X_test.shape)\n",
    "print(Y_train.shape)\n",
    "print(Y_test.shape)"
   ]
  },
  {
   "cell_type": "code",
   "execution_count": 26,
   "id": "50d11009",
   "metadata": {},
   "outputs": [],
   "source": [
    "# Runing Linear Regression\n",
    "from sklearn.linear_model import LinearRegression\n",
    "lm = LinearRegression()"
   ]
  },
  {
   "cell_type": "code",
   "execution_count": 27,
   "id": "faa78c3c",
   "metadata": {},
   "outputs": [],
   "source": [
    "X = data[[\"age\",\"sex\",\"bmi\",\"children\",\"smoker\",\"region\"]]\n",
    "Y = np.log(Y)"
   ]
  },
  {
   "cell_type": "code",
   "execution_count": 28,
   "id": "6b5b9b1a",
   "metadata": {},
   "outputs": [
    {
     "name": "stdout",
     "output_type": "stream",
     "text": [
      "[6.99879762]\n",
      "[[ 0.03498834 -0.0711322   0.01259126  0.09962977  1.5693443  -0.03889152]]\n"
     ]
    }
   ],
   "source": [
    "lm.fit(X_train,Y_train)\n",
    "\n",
    "print(lm.intercept_)\n",
    "print(lm.coef_)"
   ]
  },
  {
   "cell_type": "code",
   "execution_count": 29,
   "id": "2c6c4d61",
   "metadata": {},
   "outputs": [
    {
     "name": "stdout",
     "output_type": "stream",
     "text": [
      "[[ 8.90264566]\n",
      " [ 8.55800249]\n",
      " [ 9.44206862]\n",
      " [ 9.37109228]\n",
      " [ 8.30231857]\n",
      " [ 8.93127398]\n",
      " [ 9.22860018]\n",
      " [ 9.62770497]\n",
      " [ 8.96169962]\n",
      " [10.524292  ]\n",
      " [ 8.12183109]\n",
      " [ 8.270934  ]\n",
      " [ 8.75991467]\n",
      " [ 9.14967223]\n",
      " [ 9.23002002]\n",
      " [ 9.36183759]\n",
      " [ 8.32332991]\n",
      " [ 9.81527793]\n",
      " [ 9.18395253]\n",
      " [10.20908992]\n",
      " [10.5308626 ]\n",
      " [ 8.06726747]\n",
      " [ 7.95992684]\n",
      " [ 8.77128514]\n",
      " [ 8.43374205]\n",
      " [ 9.41895434]\n",
      " [ 9.01687327]\n",
      " [ 9.41850025]\n",
      " [ 8.42170066]\n",
      " [10.20084299]\n",
      " [ 7.72507636]\n",
      " [10.38861159]\n",
      " [ 8.89576619]\n",
      " [ 8.94511958]\n",
      " [ 8.45447782]\n",
      " [ 8.89057139]\n",
      " [ 9.43604078]\n",
      " [ 9.09248396]\n",
      " [ 9.09271164]\n",
      " [ 8.89473802]\n",
      " [ 9.58926813]\n",
      " [ 9.15682789]\n",
      " [ 8.54484462]\n",
      " [ 8.99761391]\n",
      " [ 7.99767708]\n",
      " [ 8.81979395]\n",
      " [ 8.91337357]\n",
      " [10.61798009]\n",
      " [ 9.30298176]\n",
      " [ 9.24221911]\n",
      " [10.01078002]\n",
      " [ 8.31758485]\n",
      " [ 8.90942155]\n",
      " [ 9.62809789]\n",
      " [ 9.09900057]\n",
      " [ 9.38167738]\n",
      " [ 9.30538021]\n",
      " [ 8.63050675]\n",
      " [ 8.707771  ]\n",
      " [10.70371838]\n",
      " [ 7.87802912]\n",
      " [10.61635976]\n",
      " [11.07322819]\n",
      " [ 7.95757539]\n",
      " [ 9.99650111]\n",
      " [ 8.87336923]\n",
      " [ 8.47709653]\n",
      " [ 8.90772216]\n",
      " [ 8.86749958]\n",
      " [ 8.92965431]\n",
      " [ 8.81908517]\n",
      " [ 7.95741791]\n",
      " [ 8.85051652]\n",
      " [ 8.89426488]\n",
      " [ 8.97913786]\n",
      " [ 9.33234154]\n",
      " [ 8.55732546]\n",
      " [ 8.82884226]\n",
      " [ 7.81072893]\n",
      " [ 9.33028012]\n",
      " [ 9.26333526]\n",
      " [ 9.18682528]\n",
      " [ 9.76252798]\n",
      " [ 8.25757278]\n",
      " [10.7521011 ]\n",
      " [ 8.30707181]\n",
      " [ 7.89933932]\n",
      " [ 8.00117894]\n",
      " [ 8.73508389]\n",
      " [ 9.16545984]\n",
      " [10.22758339]\n",
      " [10.37597279]\n",
      " [ 9.14821878]\n",
      " [10.54463964]\n",
      " [ 9.40306727]\n",
      " [ 8.42687233]\n",
      " [ 8.71927641]\n",
      " [ 9.26351312]\n",
      " [ 8.5192461 ]\n",
      " [ 9.32917875]\n",
      " [ 8.78058049]\n",
      " [ 8.00777364]\n",
      " [ 8.30781235]\n",
      " [ 8.5037178 ]\n",
      " [ 9.10261193]\n",
      " [ 8.9864186 ]\n",
      " [10.31662101]\n",
      " [10.00015164]\n",
      " [10.54458162]\n",
      " [ 8.48477941]\n",
      " [ 9.16098223]\n",
      " [ 8.80265364]\n",
      " [ 8.48996138]\n",
      " [ 9.55766456]\n",
      " [ 9.88933686]\n",
      " [10.3303305 ]\n",
      " [ 8.47370328]\n",
      " [10.59621853]\n",
      " [ 8.80700797]\n",
      " [ 8.31622619]\n",
      " [10.48215667]\n",
      " [ 9.07150391]\n",
      " [ 8.7611906 ]\n",
      " [ 8.05218881]\n",
      " [11.06531961]\n",
      " [ 8.24252385]\n",
      " [ 9.41028173]\n",
      " [ 8.72348451]\n",
      " [ 8.49337039]\n",
      " [ 9.41218088]\n",
      " [ 9.15613405]\n",
      " [10.99066035]\n",
      " [ 9.6904409 ]\n",
      " [10.69889614]\n",
      " [ 8.95407949]\n",
      " [10.28411004]\n",
      " [ 9.32703168]\n",
      " [ 9.2117628 ]\n",
      " [ 9.85550768]\n",
      " [ 8.61764036]\n",
      " [ 8.78601076]\n",
      " [10.47558762]\n",
      " [ 9.5137303 ]\n",
      " [ 8.19805539]\n",
      " [ 8.28660462]\n",
      " [ 9.90354412]\n",
      " [ 9.27361769]\n",
      " [ 8.86313263]\n",
      " [ 9.01621165]\n",
      " [ 8.27524785]\n",
      " [ 8.41946485]\n",
      " [ 8.72652452]\n",
      " [ 7.85854374]\n",
      " [11.06939617]\n",
      " [ 9.41973559]\n",
      " [ 7.94920072]\n",
      " [ 9.42337687]\n",
      " [ 7.77191574]\n",
      " [ 9.59912191]\n",
      " [10.85617702]\n",
      " [ 9.35980057]\n",
      " [ 8.18231406]\n",
      " [ 8.74739348]\n",
      " [ 9.3211925 ]\n",
      " [ 8.30116928]\n",
      " [10.98202704]\n",
      " [ 8.90945911]\n",
      " [ 8.59742715]\n",
      " [ 7.94277074]\n",
      " [ 9.21356694]\n",
      " [ 9.21839839]\n",
      " [ 8.92522424]\n",
      " [ 8.59667393]\n",
      " [ 8.75464029]\n",
      " [10.12664877]\n",
      " [ 8.75755384]\n",
      " [ 8.19617411]\n",
      " [ 9.15231574]\n",
      " [ 8.96733281]\n",
      " [ 9.40806153]\n",
      " [11.08507252]\n",
      " [ 9.27397427]\n",
      " [ 8.45850839]\n",
      " [ 8.02122274]\n",
      " [ 9.4832896 ]\n",
      " [ 8.35743004]\n",
      " [10.86003989]\n",
      " [ 9.10373926]\n",
      " [10.46204291]\n",
      " [ 8.08542577]\n",
      " [ 9.03445575]\n",
      " [ 8.94675662]\n",
      " [ 8.52255099]\n",
      " [ 8.92562406]\n",
      " [ 9.45438476]\n",
      " [ 9.15852639]\n",
      " [ 9.51131334]\n",
      " [ 8.42861174]\n",
      " [ 9.35974466]\n",
      " [ 8.68309189]\n",
      " [ 8.60765954]\n",
      " [ 7.85649806]\n",
      " [ 9.55418604]\n",
      " [ 9.02921177]\n",
      " [ 7.97739671]\n",
      " [10.75398776]\n",
      " [ 9.99972802]\n",
      " [ 9.76989302]\n",
      " [10.12129612]\n",
      " [ 8.10515203]\n",
      " [ 8.90693486]\n",
      " [10.27465961]\n",
      " [ 8.74223938]\n",
      " [ 8.82171349]\n",
      " [10.13123324]\n",
      " [ 8.45100656]\n",
      " [ 8.77622604]\n",
      " [ 8.14075671]\n",
      " [ 9.66373183]\n",
      " [ 9.28023779]\n",
      " [ 8.61731798]\n",
      " [ 8.55565692]\n",
      " [ 7.94437664]\n",
      " [ 9.49972244]\n",
      " [ 7.87688076]\n",
      " [ 9.57092658]\n",
      " [ 9.49620305]\n",
      " [ 8.03279827]\n",
      " [ 8.84747858]\n",
      " [ 9.90709186]\n",
      " [ 8.63241152]\n",
      " [ 9.47257859]\n",
      " [ 8.73430832]\n",
      " [ 9.85498784]\n",
      " [ 9.20373607]\n",
      " [ 8.21948195]\n",
      " [ 9.41059788]\n",
      " [11.12168906]\n",
      " [ 7.81257708]\n",
      " [ 9.22642415]\n",
      " [ 9.23723917]\n",
      " [ 9.76165441]\n",
      " [ 9.10679167]\n",
      " [10.25972317]\n",
      " [ 9.29564749]\n",
      " [ 8.16544379]\n",
      " [ 9.24274668]\n",
      " [ 8.42582278]\n",
      " [ 9.49945452]\n",
      " [ 8.01226039]\n",
      " [ 8.44508048]\n",
      " [ 9.47996048]\n",
      " [10.33058724]\n",
      " [ 8.47159444]\n",
      " [ 8.97491974]\n",
      " [ 9.16636526]\n",
      " [ 9.07555035]\n",
      " [ 8.51761617]\n",
      " [ 8.02095839]\n",
      " [ 9.35039272]\n",
      " [ 8.28959601]\n",
      " [11.00610177]\n",
      " [ 8.70684125]\n",
      " [10.75963296]\n",
      " [ 8.37558287]\n",
      " [ 8.0961127 ]\n",
      " [ 9.43755013]\n",
      " [ 8.97155998]]\n"
     ]
    }
   ],
   "source": [
    "Y_pred = lm.predict(X_test)\n",
    "print(Y_pred)"
   ]
  },
  {
   "cell_type": "code",
   "execution_count": 30,
   "id": "2de3c499",
   "metadata": {},
   "outputs": [
    {
     "data": {
      "text/plain": [
       "0.7811636363349586"
      ]
     },
     "execution_count": 30,
     "metadata": {},
     "output_type": "execute_result"
    }
   ],
   "source": [
    "lm.score(X_train, Y_train)"
   ]
  },
  {
   "cell_type": "code",
   "execution_count": 31,
   "id": "379419ba",
   "metadata": {},
   "outputs": [
    {
     "data": {
      "text/html": [
       "<div>\n",
       "<style scoped>\n",
       "    .dataframe tbody tr th:only-of-type {\n",
       "        vertical-align: middle;\n",
       "    }\n",
       "\n",
       "    .dataframe tbody tr th {\n",
       "        vertical-align: top;\n",
       "    }\n",
       "\n",
       "    .dataframe thead th {\n",
       "        text-align: right;\n",
       "    }\n",
       "</style>\n",
       "<table border=\"1\" class=\"dataframe\">\n",
       "  <thead>\n",
       "    <tr style=\"text-align: right;\">\n",
       "      <th></th>\n",
       "      <th>age</th>\n",
       "      <th>sex</th>\n",
       "      <th>bmi</th>\n",
       "      <th>children</th>\n",
       "      <th>smoker</th>\n",
       "      <th>region</th>\n",
       "      <th>Actual Value</th>\n",
       "      <th>Predictive Value</th>\n",
       "    </tr>\n",
       "  </thead>\n",
       "  <tbody>\n",
       "    <tr>\n",
       "      <th>7</th>\n",
       "      <td>37</td>\n",
       "      <td>0</td>\n",
       "      <td>27.740</td>\n",
       "      <td>3</td>\n",
       "      <td>0</td>\n",
       "      <td>1</td>\n",
       "      <td>8.893093</td>\n",
       "      <td>8.902646</td>\n",
       "    </tr>\n",
       "    <tr>\n",
       "      <th>999</th>\n",
       "      <td>36</td>\n",
       "      <td>0</td>\n",
       "      <td>26.885</td>\n",
       "      <td>0</td>\n",
       "      <td>0</td>\n",
       "      <td>1</td>\n",
       "      <td>8.569372</td>\n",
       "      <td>8.558002</td>\n",
       "    </tr>\n",
       "    <tr>\n",
       "      <th>1209</th>\n",
       "      <td>59</td>\n",
       "      <td>1</td>\n",
       "      <td>37.100</td>\n",
       "      <td>1</td>\n",
       "      <td>0</td>\n",
       "      <td>3</td>\n",
       "      <td>9.421182</td>\n",
       "      <td>9.442069</td>\n",
       "    </tr>\n",
       "    <tr>\n",
       "      <th>491</th>\n",
       "      <td>61</td>\n",
       "      <td>0</td>\n",
       "      <td>25.080</td>\n",
       "      <td>0</td>\n",
       "      <td>0</td>\n",
       "      <td>2</td>\n",
       "      <td>10.106963</td>\n",
       "      <td>9.371092</td>\n",
       "    </tr>\n",
       "    <tr>\n",
       "      <th>625</th>\n",
       "      <td>29</td>\n",
       "      <td>0</td>\n",
       "      <td>26.030</td>\n",
       "      <td>0</td>\n",
       "      <td>0</td>\n",
       "      <td>1</td>\n",
       "      <td>8.225895</td>\n",
       "      <td>8.302319</td>\n",
       "    </tr>\n",
       "    <tr>\n",
       "      <th>...</th>\n",
       "      <td>...</td>\n",
       "      <td>...</td>\n",
       "      <td>...</td>\n",
       "      <td>...</td>\n",
       "      <td>...</td>\n",
       "      <td>...</td>\n",
       "      <td>...</td>\n",
       "      <td>...</td>\n",
       "    </tr>\n",
       "    <tr>\n",
       "      <th>271</th>\n",
       "      <td>50</td>\n",
       "      <td>1</td>\n",
       "      <td>34.200</td>\n",
       "      <td>2</td>\n",
       "      <td>1</td>\n",
       "      <td>3</td>\n",
       "      <td>10.665620</td>\n",
       "      <td>10.759633</td>\n",
       "    </tr>\n",
       "    <tr>\n",
       "      <th>695</th>\n",
       "      <td>26</td>\n",
       "      <td>0</td>\n",
       "      <td>40.185</td>\n",
       "      <td>0</td>\n",
       "      <td>0</td>\n",
       "      <td>1</td>\n",
       "      <td>8.071295</td>\n",
       "      <td>8.375583</td>\n",
       "    </tr>\n",
       "    <tr>\n",
       "      <th>1039</th>\n",
       "      <td>19</td>\n",
       "      <td>1</td>\n",
       "      <td>27.265</td>\n",
       "      <td>2</td>\n",
       "      <td>0</td>\n",
       "      <td>1</td>\n",
       "      <td>10.020989</td>\n",
       "      <td>8.096113</td>\n",
       "    </tr>\n",
       "    <tr>\n",
       "      <th>323</th>\n",
       "      <td>57</td>\n",
       "      <td>1</td>\n",
       "      <td>40.945</td>\n",
       "      <td>0</td>\n",
       "      <td>0</td>\n",
       "      <td>0</td>\n",
       "      <td>9.355851</td>\n",
       "      <td>9.437550</td>\n",
       "    </tr>\n",
       "    <tr>\n",
       "      <th>835</th>\n",
       "      <td>42</td>\n",
       "      <td>1</td>\n",
       "      <td>35.970</td>\n",
       "      <td>2</td>\n",
       "      <td>0</td>\n",
       "      <td>2</td>\n",
       "      <td>8.876311</td>\n",
       "      <td>8.971560</td>\n",
       "    </tr>\n",
       "  </tbody>\n",
       "</table>\n",
       "<p>268 rows × 8 columns</p>\n",
       "</div>"
      ],
      "text/plain": [
       "      age  sex     bmi  children  smoker  region  Actual Value  \\\n",
       "7      37    0  27.740         3       0       1      8.893093   \n",
       "999    36    0  26.885         0       0       1      8.569372   \n",
       "1209   59    1  37.100         1       0       3      9.421182   \n",
       "491    61    0  25.080         0       0       2     10.106963   \n",
       "625    29    0  26.030         0       0       1      8.225895   \n",
       "...   ...  ...     ...       ...     ...     ...           ...   \n",
       "271    50    1  34.200         2       1       3     10.665620   \n",
       "695    26    0  40.185         0       0       1      8.071295   \n",
       "1039   19    1  27.265         2       0       1     10.020989   \n",
       "323    57    1  40.945         0       0       0      9.355851   \n",
       "835    42    1  35.970         2       0       2      8.876311   \n",
       "\n",
       "      Predictive Value  \n",
       "7             8.902646  \n",
       "999           8.558002  \n",
       "1209          9.442069  \n",
       "491           9.371092  \n",
       "625           8.302319  \n",
       "...                ...  \n",
       "271          10.759633  \n",
       "695           8.375583  \n",
       "1039          8.096113  \n",
       "323           9.437550  \n",
       "835           8.971560  \n",
       "\n",
       "[268 rows x 8 columns]"
      ]
     },
     "execution_count": 31,
     "metadata": {},
     "output_type": "execute_result"
    }
   ],
   "source": [
    "new_df=pd.DataFrame()\n",
    "new_df=X_test.copy()\n",
    "\n",
    "new_df[\"Actual Value\"]=Y_test\n",
    "new_df[\"Predictive Value\"]=Y_pred\n",
    "new_df"
   ]
  },
  {
   "cell_type": "code",
   "execution_count": 32,
   "id": "45012ac3",
   "metadata": {},
   "outputs": [
    {
     "name": "stdout",
     "output_type": "stream",
     "text": [
      "R-squared: 0.7049534517624696\n",
      "RMSE: 0.4882327185684707\n",
      "Adj R-square: 0.703623414730595\n"
     ]
    }
   ],
   "source": [
    "from sklearn.metrics import r2_score,mean_squared_error\n",
    "import numpy as np\n",
    "\n",
    "r2=r2_score(Y_test,Y_pred)\n",
    "print(\"R-squared:\",r2)\n",
    "\n",
    "rmse=np.sqrt(mean_squared_error(Y_test,Y_pred))\n",
    "print(\"RMSE:\",rmse)\n",
    "\n",
    "adjusted_r_squared = 1 - (1-r2)*(len(Y)-1)/(len(Y)-X.shape[1]-1)\n",
    "print(\"Adj R-square:\",adjusted_r_squared)"
   ]
  },
  {
   "cell_type": "code",
   "execution_count": 33,
   "id": "cb1fce3a",
   "metadata": {},
   "outputs": [
    {
     "name": "stdout",
     "output_type": "stream",
     "text": [
      "[7.00041521]\n",
      "[[ 0.03498462 -0.07025584  0.01259184  0.09952118  1.5602262  -0.03886915]]\n"
     ]
    }
   ],
   "source": [
    "from sklearn.linear_model import Ridge\n",
    "lm = Ridge()\n",
    "lm.fit(X_train, Y_train)\n",
    "\n",
    "print(lm.intercept_)\n",
    "print(lm.coef_)"
   ]
  },
  {
   "cell_type": "code",
   "execution_count": 34,
   "id": "b6fd3a29",
   "metadata": {
    "scrolled": true
   },
   "outputs": [
    {
     "name": "stdout",
     "output_type": "stream",
     "text": [
      "[[ 8.90383819]\n",
      " [ 8.559524  ]\n",
      " [ 9.44432297]\n",
      " [ 9.37254216]\n",
      " [ 8.30386562]\n",
      " [ 8.93264867]\n",
      " [ 9.23044255]\n",
      " [ 9.62008163]\n",
      " [ 8.96299492]\n",
      " [10.51642592]\n",
      " [ 8.12406577]\n",
      " [ 8.27247141]\n",
      " [ 8.76226365]\n",
      " [ 9.15083063]\n",
      " [ 9.23137113]\n",
      " [ 9.36326822]\n",
      " [ 8.32481017]\n",
      " [ 9.81730179]\n",
      " [ 9.18544459]\n",
      " [10.20223939]\n",
      " [10.52398423]\n",
      " [ 8.06885693]\n",
      " [ 7.96149259]\n",
      " [ 8.77266848]\n",
      " [ 8.43509829]\n",
      " [ 9.42039288]\n",
      " [ 9.01907481]\n",
      " [ 9.41962597]\n",
      " [ 8.42309111]\n",
      " [10.19404856]\n",
      " [ 7.7275781 ]\n",
      " [10.38171259]\n",
      " [ 8.89727941]\n",
      " [ 8.94724544]\n",
      " [ 8.45682241]\n",
      " [ 8.89191125]\n",
      " [ 9.43834376]\n",
      " [ 9.09487269]\n",
      " [ 9.094159  ]\n",
      " [ 8.896934  ]\n",
      " [ 9.59071732]\n",
      " [ 9.15895566]\n",
      " [ 8.54636553]\n",
      " [ 8.9990888 ]\n",
      " [ 8.00017241]\n",
      " [ 8.82120653]\n",
      " [ 8.91559517]\n",
      " [10.61089538]\n",
      " [ 9.30527048]\n",
      " [ 9.24366554]\n",
      " [10.00310992]\n",
      " [ 8.31916204]\n",
      " [ 8.91172601]\n",
      " [ 9.6293009 ]\n",
      " [ 9.10136015]\n",
      " [ 9.38400733]\n",
      " [ 9.30671351]\n",
      " [ 8.63283569]\n",
      " [ 8.71008752]\n",
      " [10.69579563]\n",
      " [ 7.88047073]\n",
      " [10.60941801]\n",
      " [11.06553125]\n",
      " [ 7.96004765]\n",
      " [ 9.98958379]\n",
      " [ 8.87490557]\n",
      " [ 8.47930489]\n",
      " [ 8.90988639]\n",
      " [ 8.86892784]\n",
      " [ 8.93106947]\n",
      " [ 8.82055725]\n",
      " [ 7.9597983 ]\n",
      " [ 8.85191167]\n",
      " [ 8.89643381]\n",
      " [ 8.98053645]\n",
      " [ 9.33357888]\n",
      " [ 8.55887107]\n",
      " [ 8.83039251]\n",
      " [ 7.8131863 ]\n",
      " [ 9.33143901]\n",
      " [ 9.26536007]\n",
      " [ 9.18908637]\n",
      " [ 9.75469516]\n",
      " [ 8.25903943]\n",
      " [10.74433485]\n",
      " [ 8.30854602]\n",
      " [ 7.90183017]\n",
      " [ 8.00280836]\n",
      " [ 8.73650566]\n",
      " [ 9.16671371]\n",
      " [10.22088736]\n",
      " [10.36924345]\n",
      " [ 9.15023015]\n",
      " [10.53687877]\n",
      " [ 9.40541172]\n",
      " [ 8.42922387]\n",
      " [ 8.72155049]\n",
      " [ 9.26492224]\n",
      " [ 8.5215859 ]\n",
      " [ 9.33063203]\n",
      " [ 8.78285205]\n",
      " [ 8.00934157]\n",
      " [ 8.30914113]\n",
      " [ 8.50496653]\n",
      " [ 9.10398137]\n",
      " [ 8.98870532]\n",
      " [10.30979178]\n",
      " [ 9.99313441]\n",
      " [10.53647077]\n",
      " [ 8.48671828]\n",
      " [ 9.16319386]\n",
      " [ 8.80397888]\n",
      " [ 8.49142268]\n",
      " [ 9.55013232]\n",
      " [ 9.88180138]\n",
      " [10.32319152]\n",
      " [ 8.47515853]\n",
      " [10.58852533]\n",
      " [ 8.80905161]\n",
      " [ 8.31842433]\n",
      " [10.47424219]\n",
      " [ 9.07384872]\n",
      " [ 8.76335878]\n",
      " [ 8.05380703]\n",
      " [11.05852605]\n",
      " [ 8.2440759 ]\n",
      " [ 9.41172519]\n",
      " [ 8.72473552]\n",
      " [ 8.49581151]\n",
      " [ 9.41436146]\n",
      " [ 9.15846678]\n",
      " [10.98298911]\n",
      " [ 9.68289347]\n",
      " [10.69185566]\n",
      " [ 8.95529561]\n",
      " [10.27637802]\n",
      " [ 9.32905408]\n",
      " [ 9.21313191]\n",
      " [ 9.84873713]\n",
      " [ 8.61879756]\n",
      " [ 8.78818538]\n",
      " [10.46860423]\n",
      " [ 9.51585066]\n",
      " [ 8.20042837]\n",
      " [ 8.28883086]\n",
      " [ 9.89669209]\n",
      " [ 9.27511914]\n",
      " [ 8.86553217]\n",
      " [ 9.01860753]\n",
      " [ 8.27650743]\n",
      " [ 8.420847  ]\n",
      " [ 8.72770083]\n",
      " [ 7.86105156]\n",
      " [11.06255983]\n",
      " [ 9.42175159]\n",
      " [ 7.95169384]\n",
      " [ 9.42485858]\n",
      " [ 7.77440079]\n",
      " [ 9.60025586]\n",
      " [10.84935753]\n",
      " [ 9.36208126]\n",
      " [ 8.18479124]\n",
      " [ 8.74874034]\n",
      " [ 9.32344135]\n",
      " [ 8.30264854]\n",
      " [10.97526976]\n",
      " [ 8.91088108]\n",
      " [ 8.59899583]\n",
      " [ 7.94438398]\n",
      " [ 9.21586753]\n",
      " [ 9.22061263]\n",
      " [ 8.92742692]\n",
      " [ 8.59813766]\n",
      " [ 8.7568695 ]\n",
      " [10.11974027]\n",
      " [ 8.75982967]\n",
      " [ 8.1976975 ]\n",
      " [ 9.15357675]\n",
      " [ 8.96874148]\n",
      " [ 9.40953965]\n",
      " [11.07827455]\n",
      " [ 9.27626698]\n",
      " [ 8.46081309]\n",
      " [ 8.02371915]\n",
      " [ 9.47668185]\n",
      " [ 8.35979966]\n",
      " [10.85238926]\n",
      " [ 9.10610194]\n",
      " [10.45428181]\n",
      " [ 8.0878773 ]\n",
      " [ 9.03672341]\n",
      " [ 8.94875529]\n",
      " [ 8.52476142]\n",
      " [ 8.92692013]\n",
      " [ 9.45546852]\n",
      " [ 9.16085923]\n",
      " [ 9.50377368]\n",
      " [ 8.42993829]\n",
      " [ 9.36116989]\n",
      " [ 8.68536964]\n",
      " [ 8.60915917]\n",
      " [ 7.85893869]\n",
      " [ 9.55546341]\n",
      " [ 9.0313138 ]\n",
      " [ 7.97901153]\n",
      " [10.74636417]\n",
      " [ 9.99273249]\n",
      " [ 9.77098405]\n",
      " [10.11442744]\n",
      " [ 8.10677556]\n",
      " [ 8.90933107]\n",
      " [10.26763652]\n",
      " [ 8.74444677]\n",
      " [ 8.8231556 ]\n",
      " [10.12365276]\n",
      " [ 8.45243374]\n",
      " [ 8.77776038]\n",
      " [ 8.14224749]\n",
      " [ 9.66483396]\n",
      " [ 9.28256024]\n",
      " [ 8.61945195]\n",
      " [ 8.55709176]\n",
      " [ 7.94594167]\n",
      " [ 9.50175029]\n",
      " [ 7.87935466]\n",
      " [ 9.5641426 ]\n",
      " [ 9.49744012]\n",
      " [ 8.0344156 ]\n",
      " [ 8.84897078]\n",
      " [ 9.89935219]\n",
      " [ 8.63480828]\n",
      " [ 9.46509075]\n",
      " [ 8.73632918]\n",
      " [ 9.8481307 ]\n",
      " [ 9.20521551]\n",
      " [ 8.22105178]\n",
      " [ 9.41200128]\n",
      " [11.1139702 ]\n",
      " [ 7.81418439]\n",
      " [ 9.22878953]\n",
      " [ 9.23943834]\n",
      " [ 9.75496857]\n",
      " [ 9.10912746]\n",
      " [10.25283423]\n",
      " [ 9.29788166]\n",
      " [ 8.16777764]\n",
      " [ 9.24509687]\n",
      " [ 8.42730772]\n",
      " [ 9.50172563]\n",
      " [ 8.01381258]\n",
      " [ 8.44744058]\n",
      " [ 9.48138056]\n",
      " [10.32271655]\n",
      " [ 8.47316029]\n",
      " [ 8.97615321]\n",
      " [ 9.16854174]\n",
      " [ 9.07757434]\n",
      " [ 8.51908161]\n",
      " [ 8.02338816]\n",
      " [ 9.35178697]\n",
      " [ 8.29184942]\n",
      " [10.9980914 ]\n",
      " [ 8.70924671]\n",
      " [10.75269243]\n",
      " [ 8.37714919]\n",
      " [ 8.09835683]\n",
      " [ 9.43985561]\n",
      " [ 8.97374594]]\n"
     ]
    }
   ],
   "source": [
    "Y_pred = lm.predict(X_test)\n",
    "print(Y_pred)"
   ]
  },
  {
   "cell_type": "code",
   "execution_count": 35,
   "id": "1365c36a",
   "metadata": {},
   "outputs": [
    {
     "data": {
      "text/plain": [
       "0.7811479777700893"
      ]
     },
     "execution_count": 35,
     "metadata": {},
     "output_type": "execute_result"
    }
   ],
   "source": [
    "lm.score(X_train, Y_train)"
   ]
  },
  {
   "cell_type": "code",
   "execution_count": 36,
   "id": "a3b815e9",
   "metadata": {},
   "outputs": [
    {
     "name": "stdout",
     "output_type": "stream",
     "text": [
      "R-squared: 0.7052731948166413\n",
      "RMSE: 0.487968097039376\n",
      "Adj R-square: 0.7039445991509011\n"
     ]
    }
   ],
   "source": [
    "r2=r2_score(Y_test,Y_pred)\n",
    "print(\"R-squared:\",r2)\n",
    "\n",
    "rmse=np.sqrt(mean_squared_error(Y_test,Y_pred))\n",
    "print(\"RMSE:\",rmse)\n",
    "\n",
    "adjusted_r_squared = 1 - (1-r2)*(len(Y)-1)/(len(Y)-X.shape[1]-1)\n",
    "print(\"Adj R-square:\",adjusted_r_squared)\n",
    "#R-squared: 0.6952574312612805\n",
    "#RMSE: 0.055466449671478374\n",
    "#Adj R-square: 0.6938836856471315"
   ]
  },
  {
   "cell_type": "code",
   "execution_count": 37,
   "id": "c315e1ab",
   "metadata": {},
   "outputs": [
    {
     "name": "stdout",
     "output_type": "stream",
     "text": [
      "[7.89587545]\n",
      "[ 0.03043079  0.          0.          0.          0.         -0.        ]\n"
     ]
    }
   ],
   "source": [
    "from sklearn.linear_model import Lasso\n",
    "lm = Lasso()\n",
    "lm.fit(X_train,Y_train)\n",
    "\n",
    "print(lm.intercept_)\n",
    "print(lm.coef_)"
   ]
  },
  {
   "cell_type": "code",
   "execution_count": 38,
   "id": "b74026b9",
   "metadata": {},
   "outputs": [
    {
     "name": "stdout",
     "output_type": "stream",
     "text": [
      "[9.02181452 8.99138374 9.6912918  9.75215338 8.77836824 9.14353766\n",
      " 9.26526081 8.50449116 9.23483002 9.20439923 8.53492195 8.68707588\n",
      " 9.20439923 9.14353766 9.35655316 9.72172259 8.65664509 9.81301495\n",
      " 9.59999945 8.99138374 9.23483002 8.47406038 8.44362959 9.05224531\n",
      " 8.74793745 9.6912918  9.23483002 9.53913788 8.68707588 9.08267609\n",
      " 8.47406038 9.08267609 9.26526081 9.23483002 8.77836824 8.96095295\n",
      " 9.78258416 9.47827631 9.41741473 9.23483002 9.81301495 9.41741473\n",
      " 8.99138374 9.23483002 8.44362959 9.17396845 9.32612238 9.14353766\n",
      " 9.6912918  9.59999945 8.59578352 8.74793745 9.26526081 9.66086102\n",
      " 9.50870709 9.75215338 9.47827631 9.05224531 9.14353766 9.20439923\n",
      " 8.44362959 9.38698395 9.81301495 8.56535274 8.80879902 9.26526081\n",
      " 8.77836824 9.14353766 9.23483002 9.32612238 9.20439923 8.44362959\n",
      " 9.14353766 9.11310688 9.29569159 9.38698395 8.99138374 9.17396845\n",
      " 8.47406038 9.32612238 9.38698395 9.44784552 8.44362959 8.71750666\n",
      " 9.47827631 8.68707588 8.44362959 8.50449116 8.96095295 9.38698395\n",
      " 9.17396845 9.26526081 9.29569159 9.02181452 9.81301495 8.86966059\n",
      " 9.11310688 9.44784552 8.96095295 9.72172259 9.14353766 8.44362959\n",
      " 8.59578352 8.59578352 9.35655316 9.38698395 9.17396845 8.59578352\n",
      " 9.08267609 8.65664509 9.44784552 9.02181452 8.80879902 8.47406038\n",
      " 8.71750666 8.86966059 8.83922981 9.29569159 9.02181452 8.65664509\n",
      " 8.96095295 9.44784552 9.08267609 8.44362959 9.81301495 8.59578352\n",
      " 9.66086102 8.77836824 9.02181452 9.6912918  9.53913788 9.78258416\n",
      " 8.59578352 9.32612238 8.90009138 9.02181452 9.41741473 9.38698395\n",
      " 8.71750666 8.77836824 9.05224531 9.17396845 9.6912918  8.68707588\n",
      " 8.62621431 8.68707588 9.56956866 9.35655316 9.41741473 8.47406038\n",
      " 8.59578352 8.93052216 8.47406038 9.78258416 9.47827631 8.44362959\n",
      " 9.72172259 8.44362959 9.53913788 9.63043023 9.75215338 8.59578352\n",
      " 9.02181452 9.6912918  8.65664509 9.72172259 9.14353766 8.86966059\n",
      " 8.44362959 9.59999945 9.44784552 9.20439923 8.96095295 8.86966059\n",
      " 8.93052216 9.11310688 8.74793745 9.20439923 9.23483002 9.59999945\n",
      " 9.84344573 9.66086102 8.86966059 8.44362959 8.47406038 8.74793745\n",
      " 9.63043023 9.63043023 9.23483002 8.71750666 9.50870709 9.08267609\n",
      " 8.77836824 9.08267609 9.41741473 9.53913788 8.50449116 8.77836824\n",
      " 9.75215338 9.08267609 8.99138374 8.44362959 9.63043023 9.02181452\n",
      " 8.44362959 9.44784552 8.74793745 9.6912918  8.83922981 8.56535274\n",
      " 9.38698395 8.83922981 8.99138374 9.14353766 8.90009138 8.71750666\n",
      " 9.11310688 8.68707588 9.59999945 9.63043023 8.86966059 8.83922981\n",
      " 8.44362959 9.56956866 8.53492195 8.44362959 9.56956866 8.44362959\n",
      " 9.23483002 8.59578352 9.17396845 8.47406038 8.90009138 8.56535274\n",
      " 9.53913788 8.62621431 9.75215338 9.81301495 8.44362959 9.50870709\n",
      " 9.53913788 8.71750666 9.50870709 8.99138374 9.63043023 8.62621431\n",
      " 9.59999945 8.65664509 9.84344573 8.53492195 8.68707588 9.81301495\n",
      " 8.80879902 8.99138374 9.08267609 9.41741473 9.20439923 8.93052216\n",
      " 8.68707588 9.41741473 8.74793745 9.50870709 9.14353766 9.41741473\n",
      " 8.68707588 8.47406038 9.63043023 9.17396845]\n"
     ]
    }
   ],
   "source": [
    "Y_pred = lm.predict(X_test)\n",
    "print(Y_pred)"
   ]
  },
  {
   "cell_type": "code",
   "execution_count": 39,
   "id": "14f13852",
   "metadata": {},
   "outputs": [
    {
     "name": "stdout",
     "output_type": "stream",
     "text": [
      "R-squared: 0.21387850856962531\n",
      "RMSE: 0.7969415049819164\n",
      "Adj R-square: 0.21033476029871445\n"
     ]
    }
   ],
   "source": [
    "r2=r2_score(Y_test,Y_pred)\n",
    "print(\"R-squared:\",r2)\n",
    "\n",
    "rmse=np.sqrt(mean_squared_error(Y_test,Y_pred))\n",
    "print(\"RMSE:\",rmse)\n",
    "\n",
    "adjusted_r_squared = 1 - (1-r2)*(len(Y)-1)/(len(Y)-X.shape[1]-1)\n",
    "print(\"Adj R-square:\",adjusted_r_squared)\n",
    "#R-squared: 0.6952574312612805\n",
    "#RMSE: 0.055466449671478374\n",
    "#Adj R-square: 0.6938836856471315"
   ]
  },
  {
   "cell_type": "code",
   "execution_count": 40,
   "id": "5fa29f1f",
   "metadata": {},
   "outputs": [
    {
     "data": {
      "text/plain": [
       "0.2883443259861952"
      ]
     },
     "execution_count": 40,
     "metadata": {},
     "output_type": "execute_result"
    }
   ],
   "source": [
    "lm.score(X_train, Y_train)"
   ]
  },
  {
   "cell_type": "code",
   "execution_count": 41,
   "id": "3d9af8d4",
   "metadata": {},
   "outputs": [
    {
     "data": {
      "text/plain": [
       "(1070, 7)"
      ]
     },
     "execution_count": 41,
     "metadata": {},
     "output_type": "execute_result"
    }
   ],
   "source": [
    "new_df = pd.DataFrame()\n",
    "new_df = X_train.copy()\n",
    "\n",
    "new_df[\"charges\"]=Y_train.copy()\n",
    "new_df.shape"
   ]
  },
  {
   "cell_type": "code",
   "execution_count": 42,
   "id": "31e0fea7",
   "metadata": {},
   "outputs": [
    {
     "name": "stdout",
     "output_type": "stream",
     "text": [
      "Intercept    6.998798\n",
      "age          0.034988\n",
      "sex         -0.071132\n",
      "bmi          0.012591\n",
      "children     0.099630\n",
      "smoker       1.569344\n",
      "region      -0.038892\n",
      "dtype: float64\n",
      "                            OLS Regression Results                            \n",
      "==============================================================================\n",
      "Dep. Variable:                charges   R-squared:                       0.781\n",
      "Model:                            OLS   Adj. R-squared:                  0.780\n",
      "Method:                 Least Squares   F-statistic:                     632.4\n",
      "Date:                Tue, 19 Jul 2022   Prob (F-statistic):               0.00\n",
      "Time:                        19:04:17   Log-Likelihood:                -620.60\n",
      "No. Observations:                1070   AIC:                             1255.\n",
      "Df Residuals:                    1063   BIC:                             1290.\n",
      "Df Model:                           6                                         \n",
      "Covariance Type:            nonrobust                                         \n",
      "==============================================================================\n",
      "                 coef    std err          t      P>|t|      [0.025      0.975]\n",
      "------------------------------------------------------------------------------\n",
      "Intercept      6.9988      0.075     93.073      0.000       6.851       7.146\n",
      "age            0.0350      0.001     36.848      0.000       0.033       0.037\n",
      "sex           -0.0711      0.027     -2.663      0.008      -0.124      -0.019\n",
      "bmi            0.0126      0.002      5.713      0.000       0.008       0.017\n",
      "children       0.0996      0.011      9.063      0.000       0.078       0.121\n",
      "smoker         1.5693      0.033     47.423      0.000       1.504       1.634\n",
      "region        -0.0389      0.012     -3.226      0.001      -0.063      -0.015\n",
      "==============================================================================\n",
      "Omnibus:                      387.011   Durbin-Watson:                   2.062\n",
      "Prob(Omnibus):                  0.000   Jarque-Bera (JB):             1499.928\n",
      "Skew:                           1.711   Prob(JB):                         0.00\n",
      "Kurtosis:                       7.684   Cond. No.                         292.\n",
      "==============================================================================\n",
      "\n",
      "Notes:\n",
      "[1] Standard Errors assume that the covariance matrix of the errors is correctly specified.\n"
     ]
    }
   ],
   "source": [
    "# Building OLS model \n",
    "import statsmodels.formula.api as sm\n",
    "\n",
    "lm_model = sm.ols(formula=\"charges ~ age + sex + bmi + children + smoker + region\",\n",
    "                 data=new_df).fit()\n",
    "\n",
    "print(lm_model.params)\n",
    "print(lm_model.summary())"
   ]
  },
  {
   "cell_type": "code",
   "execution_count": 43,
   "id": "4a20747e",
   "metadata": {},
   "outputs": [],
   "source": [
    "Y_pred = lm_model.predict(X_test)"
   ]
  },
  {
   "cell_type": "code",
   "execution_count": 44,
   "id": "300432eb",
   "metadata": {},
   "outputs": [
    {
     "name": "stdout",
     "output_type": "stream",
     "text": [
      "R-squared: 0.7049534517624696\n",
      "RMSE: 0.4882327185684707\n",
      "Adj R-square: 0.703623414730595\n"
     ]
    }
   ],
   "source": [
    "r2=r2_score(Y_test,Y_pred)\n",
    "print(\"R-squared:\",r2)\n",
    "\n",
    "rmse=np.sqrt(mean_squared_error(Y_test,Y_pred))\n",
    "print(\"RMSE:\",rmse)\n",
    "\n",
    "adjusted_r_squared = 1 - (1-r2)*(len(Y)-1)/(len(Y)-X.shape[1]-1)\n",
    "print(\"Adj R-square:\",adjusted_r_squared)\n",
    "#R-squared: 0.6952574312612805\n",
    "#RMSE: 0.055466449671478374\n",
    "#Adj R-square: 0.6938836856471315"
   ]
  },
  {
   "cell_type": "code",
   "execution_count": 45,
   "id": "6c51f8b3",
   "metadata": {},
   "outputs": [
    {
     "data": {
      "text/plain": [
       "Text(0, 0.5, 'Residuals')"
      ]
     },
     "execution_count": 45,
     "metadata": {},
     "output_type": "execute_result"
    },
    {
     "data": {
      "image/png": "[encoded data removed]",
      "text/plain": [
       "<Figure size 864x576 with 1 Axes>"
      ]
     },
     "metadata": {
      "needs_background": "light"
     },
     "output_type": "display_data"
    }
   ],
   "source": [
    "# Checking errors are random or not\n",
    "plot_lm_1 = plt.figure(1)\n",
    "plot_lm_1.set_figheight(8)\n",
    "plot_lm_1.set_figwidth(12)\n",
    "\n",
    "# fitted values (need a constant term for intercept)\n",
    "model_fitted_y = lm_model.fittedvalues\n",
    "\n",
    "plot_lm_1.axes[0] = sns.residplot(model_fitted_y, 'charges', data=new_df, lowess=True)\n",
    "\n",
    "plot_lm_1.axes[0].set_title('Residuals vs Fitted')\n",
    "plot_lm_1.axes[0].set_xlabel('Fitted values')\n",
    "plot_lm_1.axes[0].set_ylabel('Residuals')"
   ]
  },
  {
   "cell_type": "code",
   "execution_count": 46,
   "id": "13897f59",
   "metadata": {},
   "outputs": [
    {
     "data": {
      "image/png": "[encoded data removed]",
      "text/plain": [
       "<Figure size 432x288 with 1 Axes>"
      ]
     },
     "metadata": {
      "needs_background": "light"
     },
     "output_type": "display_data"
    }
   ],
   "source": [
    "# Checking errors follow normal distribution\n",
    "res = lm_model.resid\n",
    "import statsmodels.api as stm\n",
    "import scipy.stats as stats\n",
    "fig = stm.qqplot(res,  fit=True, line='45')\n",
    "plt.title('Normal Q-Q')\n",
    "plt.xlabel('Theoretical Quantiles')\n",
    "plt.ylabel('Standardized Residuals')\n",
    "plt.show() "
   ]
  },
  {
   "cell_type": "code",
   "execution_count": 47,
   "id": "bad3ac7f",
   "metadata": {},
   "outputs": [
    {
     "name": "stdout",
     "output_type": "stream",
     "text": [
      "[[-1.43876426 -1.0105187  -0.45332    -0.90861367  1.97058663  1.34390459]\n",
      " [-1.50996545  0.98959079  0.5096211  -0.07876719 -0.5074631   0.43849455]\n",
      " [-0.79795355  0.98959079  0.38330685  1.58092576 -0.5074631   0.43849455]\n",
      " ...\n",
      " [-1.50996545 -1.0105187   1.0148781  -0.90861367 -0.5074631   0.43849455]\n",
      " [-1.29636188 -1.0105187  -0.79781341 -0.90861367 -0.5074631   1.34390459]\n",
      " [ 1.55168573 -1.0105187  -0.26138796 -0.90861367  1.97058663 -0.46691549]]\n"
     ]
    }
   ],
   "source": [
    "from sklearn.preprocessing import StandardScaler\n",
    "\n",
    "scaler = StandardScaler()\n",
    "X = scaler.fit_transform(X)\n",
    "print(X)"
   ]
  },
  {
   "cell_type": "code",
   "execution_count": 48,
   "id": "7ffdc255",
   "metadata": {},
   "outputs": [],
   "source": [
    "from sklearn.model_selection import train_test_split\n",
    "\n",
    "X_train, X_test, Y_train, Y_test = train_test_split(X,Y, test_size=0.2, random_state=10)"
   ]
  },
  {
   "cell_type": "code",
   "execution_count": 49,
   "id": "acd12aa1",
   "metadata": {},
   "outputs": [
    {
     "name": "stdout",
     "output_type": "stream",
     "text": [
      "[2.202249]\n",
      "[ 0.05675366 -0.00386715  0.00813964  0.01423621  0.06767449 -0.004542  ]\n"
     ]
    }
   ],
   "source": [
    "# Runing SGDRegressor \n",
    "from sklearn.linear_model import SGDRegressor\n",
    "\n",
    "lm = SGDRegressor(learning_rate=\"constant\", eta0=0.001, shuffle=True, random_state=10, max_iter=1000, early_stopping=True,\n",
    "                 n_iter_no_change=5)\n",
    "lm.fit(X_train, Y_train)\n",
    "\n",
    "print(lm.intercept_)\n",
    "print(lm.coef_)"
   ]
  },
  {
   "cell_type": "code",
   "execution_count": 50,
   "id": "94596ebd",
   "metadata": {},
   "outputs": [
    {
     "name": "stdout",
     "output_type": "stream",
     "text": [
      "R-squared: 0.6942363297935907\n",
      "RMSE: 0.05555929772582388\n",
      "Adj R-square: 0.6928579811675664\n"
     ]
    }
   ],
   "source": [
    "Y_pred_new = lm.predict(X_test)\n",
    "r2=r2_score(Y_test,Y_pred_new)\n",
    "print(\"R-squared:\",r2)\n",
    "\n",
    "rmse=np.sqrt(mean_squared_error(Y_test,Y_pred_new))\n",
    "print(\"RMSE:\",rmse)\n",
    "\n",
    "adjusted_r_squared = 1 - (1-r2)*(len(Y)-1)/(len(Y)-X.shape[1]-1)\n",
    "print(\"Adj R-square:\",adjusted_r_squared)"
   ]
  },
  {
   "cell_type": "code",
   "execution_count": null,
   "id": "6ffc0f5b",
   "metadata": {},
   "outputs": [],
   "source": []
  },
  {
   "cell_type": "code",
   "execution_count": null,
   "id": "217b7fc2",
   "metadata": {},
   "outputs": [],
   "source": []
  }
 ],
 "metadata": {
  "kernelspec": {
   "display_name": "Python 3 (ipykernel)",
   "language": "python",
   "name": "python3"
  },
  "language_info": {
   "codemirror_mode": {
    "name": "ipython",
    "version": 3
   },
   "file_extension": ".py",
   "mimetype": "text/x-python",
   "name": "python",
   "nbconvert_exporter": "python",
   "pygments_lexer": "ipython3",
   "version": "3.9.12"
  }
 },
 "nbformat": 4,
 "nbformat_minor": 5
}
